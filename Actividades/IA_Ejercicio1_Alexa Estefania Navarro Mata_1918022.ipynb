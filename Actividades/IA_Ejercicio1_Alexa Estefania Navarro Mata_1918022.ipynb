{
  "nbformat": 4,
  "nbformat_minor": 0,
  "metadata": {
    "colab": {
      "provenance": [],
      "collapsed_sections": [],
      "authorship_tag": "ABX9TyOWx3tF5lswjaUQ2xcU2Iu5",
      "include_colab_link": true
    },
    "kernelspec": {
      "name": "python3",
      "display_name": "Python 3"
    },
    "language_info": {
      "name": "python"
    }
  },
  "cells": [
    {
      "cell_type": "markdown",
      "metadata": {
        "id": "view-in-github",
        "colab_type": "text"
      },
      "source": [
        "<a href=\"https://colab.research.google.com/github/AlexaNavarro/InteligenciaArtificial_y_RedesNeuronales/blob/main/IA_Ejercicio1_Alexa%20Estefania%20Navarro%20Mata_1918022.ipynb\" target=\"_parent\"><img src=\"https://colab.research.google.com/assets/colab-badge.svg\" alt=\"Open In Colab\"/></a>"
      ]
    },
    {
      "cell_type": "code",
      "execution_count": 5,
      "metadata": {
        "colab": {
          "base_uri": "https://localhost:8080/"
        },
        "id": "HS0rUzFdkPAX",
        "outputId": "8f1dd85c-1a7a-473b-dab8-f72a391384a4"
      },
      "outputs": [
        {
          "output_type": "stream",
          "name": "stdout",
          "text": [
            "Nombre:Alexa Estefania Navarro Mata\n",
            "Matricula:1918022\n",
            "Clase:Inteligencia Artificial y Redes Neuronales\n",
            "Hora:N1\n",
            "Titulo:Ejercicios en Python 1\n"
          ]
        }
      ],
      "source": [
        "a = \"\"\"Nombre:Alexa Estefania Navarro Mata\n",
        "Matricula:1918022\n",
        "Clase:Inteligencia Artificial y Redes Neuronales\n",
        "Hora:N1\n",
        "Titulo:Ejercicios en Python 1\"\"\"\n",
        "print(a)"
      ]
    },
    {
      "cell_type": "code",
      "source": [
        "msg=\"Escribe un programa que le pida al usuario por su nombre y que lo salude con su nombre, excepto si se llama “Ana”, “Juan”, y “Pedro”. \"\n",
        "print(msg) "
      ],
      "metadata": {
        "colab": {
          "base_uri": "https://localhost:8080/"
        },
        "id": "mGDEsLk_kQnk",
        "outputId": "1dfaa6d4-b560-4184-fa44-e441b00b71af"
      },
      "execution_count": 6,
      "outputs": [
        {
          "output_type": "stream",
          "name": "stdout",
          "text": [
            "Escribe un programa que le pida al usuario por su nombre y que lo salude con su nombre, excepto si se llama “Ana”, “Juan”, y “Pedro”. \n"
          ]
        }
      ]
    },
    {
      "cell_type": "code",
      "source": [
        "#Se utiliza input para ingresar nombre\n",
        "nombre= input(\"¿Cómo te llamas? \")\n",
        "x = \"Ana\"\n",
        "y = \"Juan\"\n",
        "z = \"Pedro\"\n",
        "\n",
        "if (nombre==x or nombre==y or nombre==z):\n",
        "  print(\"Lo siento\")\n",
        "else:\n",
        "  print(\"Hola\",nombre,\"Bienvenido\")\n",
        "\n"
      ],
      "metadata": {
        "colab": {
          "base_uri": "https://localhost:8080/"
        },
        "id": "nKzsp_mckTmP",
        "outputId": "5635efda-64f6-4685-92a0-00efd867b381"
      },
      "execution_count": 22,
      "outputs": [
        {
          "output_type": "stream",
          "name": "stdout",
          "text": [
            "¿Cómo te llamas? Juan\n",
            "Lo siento\n"
          ]
        }
      ]
    },
    {
      "cell_type": "code",
      "source": [
        "msg=\"Escribe una funcion que regrese el ultimo elemento de una lista y que revierta el orden de la lista e imprima la lista revertida\"\n",
        "print(msg) "
      ],
      "metadata": {
        "colab": {
          "base_uri": "https://localhost:8080/"
        },
        "id": "0K13K3SfkWml",
        "outputId": "576c4af2-2a89-432a-edfb-cf79236db6cb"
      },
      "execution_count": 4,
      "outputs": [
        {
          "output_type": "stream",
          "name": "stdout",
          "text": [
            "Escribe una funcion que regrese el ultimo elemento de una lista y que revierta el orden de la lista e imprima la lista revertida\n"
          ]
        }
      ]
    },
    {
      "cell_type": "code",
      "source": [
        "#utilizando for ,in y len para invertir\n",
        "lista=list(range(1,11))\n",
        "print(lista)\n",
        "\n",
        "print(lista[-1])\n",
        "for x in range(len(lista)):\n",
        "    print(lista[x])\n",
        "\n",
        "print()\n",
        "for i in range (len(lista) -1, -1,-1):\n",
        "  print(lista[i])"
      ],
      "metadata": {
        "colab": {
          "base_uri": "https://localhost:8080/"
        },
        "id": "6AvEIbCAkcEJ",
        "outputId": "a44f5ed5-8eb1-4f15-bed4-535f8d8b8a36"
      },
      "execution_count": 3,
      "outputs": [
        {
          "output_type": "stream",
          "name": "stdout",
          "text": [
            "[1, 2, 3, 4, 5, 6, 7, 8, 9, 10]\n",
            "10\n",
            "1\n",
            "2\n",
            "3\n",
            "4\n",
            "5\n",
            "6\n",
            "7\n",
            "8\n",
            "9\n",
            "10\n",
            "\n",
            "10\n",
            "9\n",
            "8\n",
            "7\n",
            "6\n",
            "5\n",
            "4\n",
            "3\n",
            "2\n",
            "1\n"
          ]
        }
      ]
    },
    {
      "cell_type": "code",
      "source": [
        "msg=\"Escribe una función que toma una lista de strings y los imprima línea por línea en un marco rectangular. Por ejemplo, la lista [“Hola”, “a”, “todos”, “esto”, “es”, “un”, “marco”]\"\n",
        "print(msg) "
      ],
      "metadata": {
        "colab": {
          "base_uri": "https://localhost:8080/"
        },
        "id": "f0ZRaUcrkc9l",
        "outputId": "a820d253-4005-4942-fe76-7cbc58434d03"
      },
      "execution_count": 2,
      "outputs": [
        {
          "output_type": "stream",
          "name": "stdout",
          "text": [
            "Escribe una función que toma una lista de strings y los imprima línea por línea en un marco rectangular. Por ejemplo, la lista [“Hola”, “a”, “todos”, “esto”, “es”, “un”, “marco”]\n"
          ]
        }
      ]
    },
    {
      "cell_type": "code",
      "source": [
        "def imprime(marco):\n",
        "  for x in marco:\n",
        "    print(x)\n",
        "marco=['*********' , '* Hola  *' , '* a     *' , '* todos *' , '* esto  *' , '* es    *' , '* un    *' , '* marco *', '*********']\n",
        "\n",
        "imprime(marco)"
      ],
      "metadata": {
        "colab": {
          "base_uri": "https://localhost:8080/"
        },
        "id": "czyLCPp2khgF",
        "outputId": "3c69a99a-815a-4cce-b0c0-0cc0a59640e1"
      },
      "execution_count": 1,
      "outputs": [
        {
          "output_type": "stream",
          "name": "stdout",
          "text": [
            "*********\n",
            "* Hola  *\n",
            "* a     *\n",
            "* todos *\n",
            "* esto  *\n",
            "* es    *\n",
            "* un    *\n",
            "* marco *\n",
            "*********\n"
          ]
        }
      ]
    }
  ]
}
